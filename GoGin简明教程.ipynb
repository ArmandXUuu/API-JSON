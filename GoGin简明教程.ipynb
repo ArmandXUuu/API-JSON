{
 "cells": [
  {
   "cell_type": "markdown",
   "metadata": {},
   "source": [
    "# [Go Gin 简明教程](https://geektutu.com/post/quick-go-gin.html)\n",
    "## 路由（Router）\n",
    "- 路由方法有：`GET`, `POST`, `PUT`, `PATCH`, `DELETE` 和 `OPTIONS`, 还有 `Any`\n",
    "### 无参数"
   ]
  },
  {
   "cell_type": "code",
   "execution_count": 1,
   "metadata": {
    "collapsed": true,
    "jupyter": {
     "outputs_hidden": true
    }
   },
   "outputs": [
    {
     "ename": "ERROR",
     "evalue": "repl.go:2:1: undefined identifier: r",
     "output_type": "error",
     "traceback": [
      "repl.go:2:1: undefined identifier: r"
     ]
    }
   ],
   "source": [
    "// 无参数\n",
    "r.GET(\"/\", func(c *gin.Context) {\n",
    "    c.String(http.StatusOK, \"Who are you ?\")\n",
    "})"
   ]
  },
  {
   "cell_type": "code",
   "execution_count": null,
   "metadata": {},
   "outputs": [],
   "source": [
    "$ curl http://localhost:9999/\n",
    "Who are you ?"
   ]
  },
  {
   "cell_type": "markdown",
   "metadata": {},
   "source": [
    "### 解析路径函数\n",
    "- 有时候我们需要动态的路由，如 `/user/:name` ，通过调用不同的url来传入不同的name。\n",
    "- `/user/:name/*role`, `*`代表可选。"
   ]
  },
  {
   "cell_type": "code",
   "execution_count": null,
   "metadata": {},
   "outputs": [],
   "source": [
    "// 匹配 /user/geektutu\n",
    "r.GET(\"/user/:name\", func(c *gin.Context) {\n",
    "    name := c.Param(\"name\")\n",
    "    c.String(http.StatusOK, \"Hello %s\", name)\n",
    "})"
   ]
  },
  {
   "cell_type": "code",
   "execution_count": null,
   "metadata": {},
   "outputs": [],
   "source": [
    "$ curl http://localhost:9999/user/geektutu\n",
    "Hello geektutu"
   ]
  },
  {
   "cell_type": "markdown",
   "metadata": {},
   "source": [
    "### 获取Query参数"
   ]
  },
  {
   "cell_type": "code",
   "execution_count": null,
   "metadata": {},
   "outputs": [],
   "source": [
    "// 匹配users?name=xxx&role=xxx，role可选\n",
    "r.GET(\"/users\", func(c *gin.Context) {\n",
    "    name := c.Query(\"name\")\n",
    "    role := c.DefaultQuery(\"role\", \"teacher\")\n",
    "    c.String(http.StatusOK, \"%s is a %s\", name, role)\n",
    "})"
   ]
  },
  {
   "cell_type": "code",
   "execution_count": null,
   "metadata": {},
   "outputs": [],
   "source": [
    "$ curl \"http://localhost:9999/users?name=Tom&role=sutdent\"\n",
    "Tom is a student"
   ]
  },
  {
   "cell_type": "markdown",
   "metadata": {},
   "source": [
    "### 获取POST参数"
   ]
  },
  {
   "cell_type": "code",
   "execution_count": null,
   "metadata": {},
   "outputs": [],
   "source": [
    "// POST\n",
    "r.POST(\"/form\", func(c *gin.Context) {\n",
    "    username := c.PostForm(\"username\")\n",
    "    password := c.DefaultPostForm(\"password\", \"000000\")\n",
    "\n",
    "    c.JSON(http.StatusOK, gin.H {\n",
    "        \"username\": username,\n",
    "        \"password\": password,\n",
    "    })\n",
    "})"
   ]
  },
  {
   "cell_type": "code",
   "execution_count": null,
   "metadata": {},
   "outputs": [],
   "source": [
    "$ curl http://localhost:9999/form  -X POST -d 'username=geektutu&password=1234'\n",
    "{\"password\":\"1234\",\"username\":\"geektutu\"}"
   ]
  },
  {
   "cell_type": "markdown",
   "metadata": {},
   "source": [
    "### Query 和 POST 混合参数"
   ]
  },
  {
   "cell_type": "code",
   "execution_count": null,
   "metadata": {},
   "outputs": [],
   "source": [
    "// GET 和 POST 混合\n",
    "r.POST(\"/posts\", func(c *gin.Context) {\n",
    "    id := c.Query(\"id\")\n",
    "    page := c.DefaultQuery(\"page\", \"0\")\n",
    "    username := c.PostForm(\"username\")\n",
    "    password := c.DefaultPostForm(\"username\", \"000000\") // 可设置默认值\n",
    "\n",
    "    c.JSON(http.StatusOK, gin.H{\n",
    "        \"id\":       id,\n",
    "        \"page\":     page,\n",
    "        \"username\": username,\n",
    "        \"password\": password,\n",
    "    })\n",
    "})"
   ]
  },
  {
   "cell_type": "code",
   "execution_count": null,
   "metadata": {},
   "outputs": [],
   "source": [
    "$ curl \"http://localhost:9999/posts?id=9876&page=7\"  -X POST -d 'username=geektutu&password=1234'\n",
    "{\"id\":\"9876\",\"page\":\"7\",\"password\":\"1234\",\"username\":\"geektutu\"}"
   ]
  },
  {
   "cell_type": "markdown",
   "metadata": {},
   "source": [
    "### Map 参数"
   ]
  },
  {
   "cell_type": "code",
   "execution_count": null,
   "metadata": {},
   "outputs": [],
   "source": [
    "r.POST(\"/post\", func(c *gin.Context) {\n",
    "    ids := c.QueryMap(\"ids\")\n",
    "    names := c.PostFormMap(\"names\")\n",
    "\n",
    "    c.JSON(http.StatusOK, gin.H {\n",
    "        \"ids\": ids,\n",
    "        \"names\": names,\n",
    "    })\n",
    "})"
   ]
  },
  {
   "cell_type": "code",
   "execution_count": null,
   "metadata": {},
   "outputs": [],
   "source": [
    "$ curl -g \"http://localhost:9999/post?ids[Jack]=001&ids[Tom]=002\" -X POST -d 'names[a]=Sam&names[b]=David'\n",
    "{\"ids\":{\"Jack\":\"001\",\"Tom\":\"002\"},\"names\":{\"a\":\"Sam\",\"b\":\"David\"}}"
   ]
  },
  {
   "cell_type": "markdown",
   "metadata": {},
   "source": [
    "### 重定向"
   ]
  },
  {
   "cell_type": "code",
   "execution_count": null,
   "metadata": {},
   "outputs": [],
   "source": [
    "r.GET(\"/redirect\", func(c *gin.Context) {\n",
    "    c.Redirect(http.StatusMovedPermanently, \"/index\")\n",
    "})\n",
    "\n",
    "r.GET(\"/goindex\", func(c *gin.Context) {\n",
    "    c.Request.URL.Path = \"/\"\n",
    "    r.HandleContext(c)\n",
    "})"
   ]
  },
  {
   "cell_type": "code",
   "execution_count": null,
   "metadata": {},
   "outputs": [],
   "source": [
    "$ curl -i http://localhost:9999/redirect\n",
    "HTTP/1.1 301 Moved Permanently\n",
    "Content-Type: text/html; charset=utf-8\n",
    "Location: /\n",
    "Date: Thu, 08 Aug 2019 17:22:14 GMT\n",
    "Content-Length: 36\n",
    "\n",
    "<a href=\"/\">Moved Permanently</a>.\n",
    "\n",
    "$ curl \"http://localhost:9999/goindex\"\n",
    "Who are you?"
   ]
  }
 ],
 "metadata": {
  "kernelspec": {
   "display_name": "Go",
   "language": "go",
   "name": "gophernotes"
  },
  "language_info": {
   "codemirror_mode": "",
   "file_extension": ".go",
   "mimetype": "",
   "name": "go",
   "nbconvert_exporter": "",
   "pygments_lexer": "",
   "version": "go1.14.4"
  }
 },
 "nbformat": 4,
 "nbformat_minor": 4
}
